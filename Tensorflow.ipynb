{
 "cells": [
  {
   "cell_type": "code",
   "execution_count": 1,
   "id": "f46b3109-4615-4818-8504-63ae609805b6",
   "metadata": {},
   "outputs": [
    {
     "name": "stderr",
     "output_type": "stream",
     "text": [
      "2024-09-24 19:07:45.204534: I tensorflow/tsl/cuda/cudart_stub.cc:28] Could not find cuda drivers on your machine, GPU will not be used.\n",
      "2024-09-24 19:07:45.598712: I tensorflow/tsl/cuda/cudart_stub.cc:28] Could not find cuda drivers on your machine, GPU will not be used.\n",
      "2024-09-24 19:07:45.599474: I tensorflow/core/platform/cpu_feature_guard.cc:182] This TensorFlow binary is optimized to use available CPU instructions in performance-critical operations.\n",
      "To enable the following instructions: AVX2 FMA, in other operations, rebuild TensorFlow with the appropriate compiler flags.\n",
      "2024-09-24 19:08:18.145644: W tensorflow/compiler/tf2tensorrt/utils/py_utils.cc:38] TF-TRT Warning: Could not find TensorRT\n"
     ]
    }
   ],
   "source": [
    "import os\n",
    "import numpy as np\n",
    "import xarray as xr\n",
    "import pandas as pd\n",
    "import tensorflow as tf"
   ]
  },
  {
   "cell_type": "code",
   "execution_count": 2,
   "id": "4f495ea0-9897-45d5-ad04-dbba25fa7e2c",
   "metadata": {},
   "outputs": [],
   "source": [
    "def load_dataset(directory):\n",
    "    image_paths = []\n",
    "    \n",
    "    files = os.listdir(directory)\n",
    "    \n",
    "    # Here we simply filter out files that are hidden or do not end with .grb\n",
    "    for filename in files:\n",
    "        if not filename.startswith('.') and filename.endswith('.grb'):\n",
    "            image_path = os.path.join(directory, filename)\n",
    "            image_paths.append(image_path)\n",
    "        \n",
    "    return image_paths\n",
    "\n",
    "train_directory = \"/pool/data/ERA5/E5/sf/an/1D/167/\"\n",
    "train = pd.DataFrame()\n",
    "train['data'] = load_dataset(train_directory)"
   ]
  },
  {
   "cell_type": "code",
   "execution_count": 3,
   "id": "55c05d74-b246-447e-9ee7-afb0185513eb",
   "metadata": {},
   "outputs": [
    {
     "data": {
      "text/plain": [
       "1014"
      ]
     },
     "execution_count": 3,
     "metadata": {},
     "output_type": "execute_result"
    }
   ],
   "source": [
    "len(train)"
   ]
  },
  {
   "cell_type": "code",
   "execution_count": 4,
   "id": "b546266b-1dc2-4a75-b6c1-a3fffe623dbd",
   "metadata": {},
   "outputs": [],
   "source": [
    "# shuffle the dataset\n",
    "control = 'data'\n",
    "random_order = np.random.permutation(len(train))\n",
    "train['RandomOrder'] = random_order\n",
    "train = train.sort_values(by=['RandomOrder', control]).reset_index(drop=True)\n",
    "train = train.drop(columns=['RandomOrder'])"
   ]
  },
  {
   "cell_type": "code",
   "execution_count": 5,
   "id": "0e90bf80-37fa-4e1c-8217-e849bbbbf271",
   "metadata": {},
   "outputs": [],
   "source": [
    "train_feature_paths = train['data'].values"
   ]
  },
  {
   "cell_type": "code",
   "execution_count": 6,
   "id": "76dca003-bd3e-4559-a8dd-5c5ba4f468f4",
   "metadata": {},
   "outputs": [
    {
     "data": {
      "text/plain": [
       "array(['/pool/data/ERA5/E5/sf/an/1D/167/E5sf00_1D_1992-11_167.grb',\n",
       "       '/pool/data/ERA5/E5/sf/an/1D/167/E5sf00_1D_1942-01_167.grb',\n",
       "       '/pool/data/ERA5/E5/sf/an/1D/167/E5sf00_1D_1983-05_167.grb', ...,\n",
       "       '/pool/data/ERA5/E5/sf/an/1D/167/E5sf00_1D_1991-03_167.grb',\n",
       "       '/pool/data/ERA5/E5/sf/an/1D/167/E5sf00_1D_1981-07_167.grb',\n",
       "       '/pool/data/ERA5/E5/sf/an/1D/167/E5sf00_1D_1967-07_167.grb'],\n",
       "      dtype=object)"
      ]
     },
     "execution_count": 6,
     "metadata": {},
     "output_type": "execute_result"
    }
   ],
   "source": [
    "train_feature_paths"
   ]
  },
  {
   "cell_type": "code",
   "execution_count": 7,
   "id": "d41fa386-9ad0-442c-84d8-ca2103d62513",
   "metadata": {},
   "outputs": [],
   "source": [
    "def generate_data(train_feature_paths, idx,  start_time, end_time):\n",
    "    for  file_path in train_feature_paths:\n",
    "        try:\n",
    "            dataset = xr.open_dataset(file_path, engine='cfgrib', backend_kwargs={'indexpath': ''})\n",
    "            dataset = dataset.sel(time=slice(np.datetime64(start_time), np.datetime64(end_time)))\n",
    "            feature = dataset['t2m'][idx].values.reshape(-1, 640)\n",
    "            feature = np.expand_dims(feature, axis=-1)\n",
    "            label = int(np.datetime_as_string(dataset['valid_time'][idx].values)[5:7]) - 1\n",
    "            feature = tf.image.resize(feature, [224, 224]).numpy() # data augmentation if needed, not compulsory\n",
    "            yield feature, label\n",
    "\n",
    "        except Exception as e:\n",
    "            continue\n",
    "\n",
    "def create_dataset(train_feature_paths, idx, start_time='1960-01-01', end_time='2000-01-01', batch_size=32):\n",
    "    dataset = tf.data.Dataset.from_generator(lambda: generate_data(train_feature_paths, idx, start_time, end_time),\n",
    "                                             output_signature=(tf.TensorSpec(shape=(224, 224, 1), dtype=tf.float32),\n",
    "                                                               tf.TensorSpec(shape=(), dtype=tf.int32)))\n",
    "    dataset = dataset.batch(batch_size)#.repeat()\n",
    "    return dataset#.shuffle(buffer_size=32).repeat()"
   ]
  },
  {
   "cell_type": "code",
   "execution_count": 8,
   "id": "52541c81-2916-4bc2-b8cd-ef7e9ff741b7",
   "metadata": {},
   "outputs": [],
   "source": [
    "# Create simple model\n",
    "model = tf.keras.Sequential([tf.keras.layers.Conv2D(32, (3, 3), activation='relu', input_shape=(224, 224, 1)),\n",
    "                             tf.keras.layers.MaxPooling2D(pool_size=(2, 2)),\n",
    "                             tf.keras.layers.Flatten(),\n",
    "                             tf.keras.layers.Dense(128, activation='relu'),\n",
    "                             tf.keras.layers.Dense(12, activation='softmax')])\n",
    "\n",
    "# Compile the model\n",
    "model.compile(optimizer='adam',\n",
    "              loss=tf.keras.losses.SparseCategoricalCrossentropy(from_logits=False),\n",
    "              metrics=['accuracy'])"
   ]
  },
  {
   "cell_type": "code",
   "execution_count": 9,
   "id": "1d931513-f70a-4e35-8a2b-9be27eac62f1",
   "metadata": {},
   "outputs": [
    {
     "name": "stdout",
     "output_type": "stream",
     "text": [
      "Model: \"sequential\"\n",
      "_________________________________________________________________\n",
      " Layer (type)                Output Shape              Param #   \n",
      "=================================================================\n",
      " conv2d (Conv2D)             (None, 222, 222, 32)      320       \n",
      "                                                                 \n",
      " max_pooling2d (MaxPooling2  (None, 111, 111, 32)      0         \n",
      " D)                                                              \n",
      "                                                                 \n",
      " flatten (Flatten)           (None, 394272)            0         \n",
      "                                                                 \n",
      " dense (Dense)               (None, 128)               50466944  \n",
      "                                                                 \n",
      " dense_1 (Dense)             (None, 12)                1548      \n",
      "                                                                 \n",
      "=================================================================\n",
      "Total params: 50468812 (192.52 MB)\n",
      "Trainable params: 50468812 (192.52 MB)\n",
      "Non-trainable params: 0 (0.00 Byte)\n",
      "_________________________________________________________________\n"
     ]
    }
   ],
   "source": [
    "# Model summary\n",
    "model.summary()"
   ]
  },
  {
   "cell_type": "code",
   "execution_count": 10,
   "id": "8063a4a5-41e8-4e88-a456-4be8cd9ab34e",
   "metadata": {},
   "outputs": [
    {
     "name": "stdout",
     "output_type": "stream",
     "text": [
      "Epoch 1/10\n",
      "15/15 [==============================] - 94s 6s/step - loss: 6790.5688 - accuracy: 0.0958\n",
      "Epoch 2/10\n",
      "15/15 [==============================] - 89s 6s/step - loss: 1673.6545 - accuracy: 0.0729\n",
      "Epoch 3/10\n",
      "15/15 [==============================] - 92s 6s/step - loss: 275.1270 - accuracy: 0.0708\n",
      "Epoch 4/10\n",
      "15/15 [==============================] - 92s 6s/step - loss: 2.7272 - accuracy: 0.0854\n",
      "Epoch 5/10\n",
      "15/15 [==============================] - 108s 7s/step - loss: 2.4850 - accuracy: 0.0833\n",
      "Epoch 6/10\n",
      "15/15 [==============================] - 91s 6s/step - loss: 18.4287 - accuracy: 0.0875\n",
      "Epoch 7/10\n",
      "15/15 [==============================] - 92s 6s/step - loss: 2.4850 - accuracy: 0.0833\n",
      "Epoch 8/10\n",
      "15/15 [==============================] - 95s 6s/step - loss: 2.4850 - accuracy: 0.0833\n",
      "Epoch 9/10\n",
      "15/15 [==============================] - 96s 6s/step - loss: 2.4850 - accuracy: 0.0833\n",
      "Epoch 10/10\n",
      "15/15 [==============================] - 94s 6s/step - loss: 2.4850 - accuracy: 0.0833\n",
      "Epoch 1/10\n",
      "15/15 [==============================] - 97s 6s/step - loss: 2.4850 - accuracy: 0.0833\n",
      "Epoch 2/10\n",
      "15/15 [==============================] - 110s 7s/step - loss: 2.4850 - accuracy: 0.0833\n",
      "Epoch 3/10\n",
      "15/15 [==============================] - 116s 8s/step - loss: 2.4850 - accuracy: 0.0833\n",
      "Epoch 4/10\n",
      "15/15 [==============================] - 116s 8s/step - loss: 2.4850 - accuracy: 0.0833\n",
      "Epoch 5/10\n",
      "15/15 [==============================] - 119s 8s/step - loss: 2.4850 - accuracy: 0.0833\n",
      "Epoch 6/10\n",
      "15/15 [==============================] - 118s 8s/step - loss: 2.4850 - accuracy: 0.0833\n",
      "Epoch 7/10\n",
      "15/15 [==============================] - 119s 8s/step - loss: 2.4850 - accuracy: 0.0833\n",
      "Epoch 8/10\n",
      "15/15 [==============================] - 123s 8s/step - loss: 2.4850 - accuracy: 0.0833\n",
      "Epoch 9/10\n",
      "15/15 [==============================] - 123s 8s/step - loss: 2.4850 - accuracy: 0.0833\n",
      "Epoch 10/10\n",
      "15/15 [==============================] - 123s 8s/step - loss: 2.4850 - accuracy: 0.0833\n",
      "Epoch 1/10\n",
      "15/15 [==============================] - 137s 9s/step - loss: 2.4850 - accuracy: 0.0833\n",
      "Epoch 2/10\n",
      "15/15 [==============================] - 130s 8s/step - loss: 2.4850 - accuracy: 0.0833\n",
      "Epoch 3/10\n",
      "15/15 [==============================] - 133s 9s/step - loss: 2.4850 - accuracy: 0.0833\n",
      "Epoch 4/10\n",
      "15/15 [==============================] - 134s 9s/step - loss: 2.4850 - accuracy: 0.0833\n",
      "Epoch 5/10\n",
      "15/15 [==============================] - 132s 9s/step - loss: 2.4850 - accuracy: 0.0833\n",
      "Epoch 6/10\n",
      "15/15 [==============================] - 137s 9s/step - loss: 2.4850 - accuracy: 0.0833\n",
      "Epoch 7/10\n",
      "15/15 [==============================] - 140s 9s/step - loss: 2.4850 - accuracy: 0.0833\n",
      "Epoch 8/10\n",
      "15/15 [==============================] - 139s 9s/step - loss: 2.4850 - accuracy: 0.0833\n",
      "Epoch 9/10\n",
      "15/15 [==============================] - 144s 9s/step - loss: 2.4850 - accuracy: 0.0833\n",
      "Epoch 10/10\n",
      "15/15 [==============================] - 145s 10s/step - loss: 2.4850 - accuracy: 0.0833\n",
      "Epoch 1/10\n",
      "15/15 [==============================] - 144s 10s/step - loss: 2.4850 - accuracy: 0.0833\n",
      "Epoch 2/10\n",
      "15/15 [==============================] - 143s 9s/step - loss: 2.4850 - accuracy: 0.0833\n",
      "Epoch 3/10\n",
      "15/15 [==============================] - 150s 10s/step - loss: 2.4850 - accuracy: 0.0833\n",
      "Epoch 4/10\n",
      "15/15 [==============================] - 146s 10s/step - loss: 2.4850 - accuracy: 0.0833\n",
      "Epoch 5/10\n",
      "15/15 [==============================] - 148s 10s/step - loss: 2.4850 - accuracy: 0.0833\n",
      "Epoch 6/10\n",
      "15/15 [==============================] - 155s 10s/step - loss: 2.4850 - accuracy: 0.0833\n",
      "Epoch 7/10\n",
      "15/15 [==============================] - 157s 10s/step - loss: 2.4850 - accuracy: 0.0833\n",
      "Epoch 8/10\n",
      "15/15 [==============================] - 158s 10s/step - loss: 2.4850 - accuracy: 0.0833\n",
      "Epoch 9/10\n",
      "15/15 [==============================] - 159s 11s/step - loss: 2.4850 - accuracy: 0.0833\n",
      "Epoch 10/10\n",
      "15/15 [==============================] - 160s 11s/step - loss: 2.4850 - accuracy: 0.0833\n",
      "Epoch 1/10\n",
      "15/15 [==============================] - 162s 11s/step - loss: 2.4850 - accuracy: 0.0833\n",
      "Epoch 2/10\n",
      "15/15 [==============================] - 163s 11s/step - loss: 2.4850 - accuracy: 0.0833\n",
      "Epoch 3/10\n",
      "15/15 [==============================] - 166s 11s/step - loss: 2.4850 - accuracy: 0.0833\n",
      "Epoch 4/10\n",
      "15/15 [==============================] - 162s 11s/step - loss: 2.4850 - accuracy: 0.0833\n",
      "Epoch 5/10\n",
      "15/15 [==============================] - 163s 11s/step - loss: 2.4850 - accuracy: 0.0833\n",
      "Epoch 6/10\n",
      "15/15 [==============================] - 166s 11s/step - loss: 2.4850 - accuracy: 0.0833\n",
      "Epoch 7/10\n",
      "15/15 [==============================] - 169s 11s/step - loss: 2.4850 - accuracy: 0.0833\n",
      "Epoch 8/10\n",
      "15/15 [==============================] - 166s 11s/step - loss: 2.4850 - accuracy: 0.0833\n",
      "Epoch 9/10\n",
      "15/15 [==============================] - 171s 11s/step - loss: 2.4850 - accuracy: 0.0833\n",
      "Epoch 10/10\n",
      "15/15 [==============================] - 172s 11s/step - loss: 2.4850 - accuracy: 0.0771\n",
      "Epoch 1/10\n",
      "15/15 [==============================] - 172s 11s/step - loss: 2.4850 - accuracy: 0.0729\n",
      "Epoch 2/10\n",
      "15/15 [==============================] - 177s 12s/step - loss: 2.4850 - accuracy: 0.0729\n",
      "Epoch 3/10\n",
      "15/15 [==============================] - 179s 12s/step - loss: 2.4850 - accuracy: 0.0729\n",
      "Epoch 4/10\n",
      "15/15 [==============================] - 179s 12s/step - loss: 2.4850 - accuracy: 0.0729\n",
      "Epoch 5/10\n",
      "15/15 [==============================] - 180s 12s/step - loss: 2.4850 - accuracy: 0.0729\n",
      "Epoch 6/10\n",
      "15/15 [==============================] - 183s 12s/step - loss: 2.4850 - accuracy: 0.0729\n",
      "Epoch 7/10\n",
      "15/15 [==============================] - 183s 12s/step - loss: 2.4850 - accuracy: 0.0688\n",
      "Epoch 8/10\n",
      "15/15 [==============================] - 183s 12s/step - loss: 2.4850 - accuracy: 0.0688\n",
      "Epoch 9/10\n",
      "15/15 [==============================] - 190s 13s/step - loss: 2.4850 - accuracy: 0.0688\n",
      "Epoch 10/10\n",
      "15/15 [==============================] - 189s 12s/step - loss: 2.4850 - accuracy: 0.0688\n",
      "Epoch 1/10\n",
      "15/15 [==============================] - 188s 12s/step - loss: 2.4850 - accuracy: 0.0688\n",
      "Epoch 2/10\n",
      "15/15 [==============================] - 188s 12s/step - loss: 2.4850 - accuracy: 0.0688\n",
      "Epoch 3/10\n",
      "15/15 [==============================] - 188s 12s/step - loss: 2.4850 - accuracy: 0.0688\n",
      "Epoch 4/10\n",
      "15/15 [==============================] - 192s 13s/step - loss: 2.4850 - accuracy: 0.0688\n",
      "Epoch 5/10\n",
      "15/15 [==============================] - 186s 12s/step - loss: 2.4850 - accuracy: 0.0688\n",
      "Epoch 6/10\n",
      "15/15 [==============================] - 196s 13s/step - loss: 2.4850 - accuracy: 0.0688\n",
      "Epoch 7/10\n",
      "15/15 [==============================] - 197s 13s/step - loss: 2.4850 - accuracy: 0.0688\n",
      "Epoch 8/10\n",
      "15/15 [==============================] - 195s 13s/step - loss: 2.4850 - accuracy: 0.0729\n",
      "Epoch 9/10\n",
      "15/15 [==============================] - 198s 13s/step - loss: 2.4850 - accuracy: 0.0708\n",
      "Epoch 10/10\n",
      "15/15 [==============================] - 199s 13s/step - loss: 2.4850 - accuracy: 0.0708\n"
     ]
    }
   ],
   "source": [
    "for idx in range(7): # each image file has multiple files hence the continuos training based on indices\n",
    "    dataset = create_dataset(train_feature_paths, idx)\n",
    "    model.fit(dataset, epochs=10)"
   ]
  },
  {
   "cell_type": "code",
   "execution_count": null,
   "id": "fa828843-ae92-401c-af14-de16bc0cbf61",
   "metadata": {},
   "outputs": [],
   "source": []
  }
 ],
 "metadata": {
  "kernelspec": {
   "display_name": "adeniyi_env_k",
   "language": "python",
   "name": "adeniyi_env_k"
  },
  "language_info": {
   "codemirror_mode": {
    "name": "ipython",
    "version": 3
   },
   "file_extension": ".py",
   "mimetype": "text/x-python",
   "name": "python",
   "nbconvert_exporter": "python",
   "pygments_lexer": "ipython3",
   "version": "3.11.4"
  }
 },
 "nbformat": 4,
 "nbformat_minor": 5
}
